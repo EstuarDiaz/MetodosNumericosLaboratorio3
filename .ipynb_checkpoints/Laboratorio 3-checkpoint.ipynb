{
 "cells": [
  {
   "cell_type": "markdown",
   "metadata": {},
   "source": [
    "# Laboratorio 3\n",
    "Estuardo Diaz, 16110\n"
   ]
  },
  {
   "cell_type": "code",
   "execution_count": 1,
   "metadata": {},
   "outputs": [],
   "source": [
    "import numpy as np\n",
    "from scipy import linalg\n",
    "import matplotlib\n",
    "import matplotlib.pyplot as plt"
   ]
  },
  {
   "cell_type": "markdown",
   "metadata": {},
   "source": [
    "### Algoritmos a utilizar:"
   ]
  },
  {
   "cell_type": "code",
   "execution_count": 93,
   "metadata": {},
   "outputs": [],
   "source": [
    "def Jacobi(A,b,x0,N=100,tol=0.001):\n",
    "    for k in range(N):\n",
    "        print(k,\": \", x0)\n",
    "        x = np.zeros_like(x0)\n",
    "        for i in range(A.shape[0]):\n",
    "            x[i] = (b[i] - sum(A[i,:]*x0) + A[i,i]*x0[i]) / A[i, i]\n",
    "        if np.allclose(x0, x, atol=tol, rtol=0.):\n",
    "            return x\n",
    "        x0 = x\n",
    "    print(\"Se excedió el número máximo de iteraciones\")\n",
    "    return x"
   ]
  },
  {
   "cell_type": "code",
   "execution_count": 94,
   "metadata": {},
   "outputs": [],
   "source": [
    "def GaussSeidel(A,b,x0,N=100,tol=0.001):\n",
    "    for k in range(N):\n",
    "        print(k,\": \",x0)\n",
    "        x = np.zeros_like(x0)\n",
    "        for i in range(A.shape[0]):\n",
    "            x[i] = (b[i] - sum(A[i, :i]*x[:i]) - sum(A[i, i + 1:]*x0[i + 1:])) / A[i, i]\n",
    "        if np.allclose(x0, x, rtol=tol):\n",
    "            return x\n",
    "        x0 = x\n",
    "    print(\"Se excedió el número máximo de iteraciones\")\n",
    "    return x"
   ]
  },
  {
   "cell_type": "code",
   "execution_count": 34,
   "metadata": {},
   "outputs": [],
   "source": [
    "def SOR(A, b, x0, w=0.5, N=100, tol=0.001):\n",
    "    x = x0\n",
    "    for k in range(N):\n",
    "        print(k,\": \",x0)\n",
    "        for i in range(A.shape[0]):\n",
    "            x[i] = (1 - w) * x[i] + (w / A[i][i]) * (b[i] - sum(A[i,:]*x) + A[i,i]*x[i])\n",
    "        if np.linalg.norm(A.dot(x) - np.transpose(b)) < tol:\n",
    "            return x\n",
    "    print(\"Se excedió el número máximo de iteraciones\")\n",
    "    return x"
   ]
  },
  {
   "cell_type": "markdown",
   "metadata": {},
   "source": [
    "### Calcular radio espectral"
   ]
  },
  {
   "cell_type": "code",
   "execution_count": 95,
   "metadata": {},
   "outputs": [],
   "source": [
    "def radioEspectral(A):\n",
    "    return max(linalg.eigvals(A))"
   ]
  },
  {
   "cell_type": "markdown",
   "metadata": {},
   "source": [
    "### Obtener matrizes para calcular convergencia"
   ]
  },
  {
   "cell_type": "code",
   "execution_count": 96,
   "metadata": {},
   "outputs": [],
   "source": [
    "def getT(A):\n",
    "    D = np.zeros(A.shape)\n",
    "    R = np.zeros(A.shape)\n",
    "    for i in range(A.shape[0]):\n",
    "        for j in range(A.shape[0]):\n",
    "            if i == j:\n",
    "                D[i,j] = A[i,j]\n",
    "            else:\n",
    "                R[i,j] = A[i,j]\n",
    "    return np.dot(np.linalg.inv(D),R)"
   ]
  },
  {
   "cell_type": "code",
   "execution_count": 97,
   "metadata": {},
   "outputs": [],
   "source": [
    "def getTg(A):\n",
    "    L = np.zeros(A.shape)\n",
    "    U = np.zeros(A.shape)\n",
    "    for i in range(A.shape[0]):\n",
    "        for j in range(A.shape[0]):\n",
    "            if i < j:\n",
    "                U[i,j] = A[i,j]\n",
    "            else:\n",
    "                L[i,j] = A[i,j]\n",
    "    return -(np.dot(np.linalg.inv(L),U))"
   ]
  },
  {
   "cell_type": "code",
   "execution_count": 98,
   "metadata": {},
   "outputs": [],
   "source": [
    "def getTs(A,w):\n",
    "    L = np.zeros(A.shape)\n",
    "    U = np.zeros(A.shape)\n",
    "    D = np.zeros(A.shape)\n",
    "    for i in range(A.shape[0]):\n",
    "        for j in range(A.shape[0]):\n",
    "            if i < j:\n",
    "                U[i,j] = A[i,j]\n",
    "            elif i > i:\n",
    "                L[i,j] = A[i,j]\n",
    "            else:\n",
    "                D[i,j] = A[i,j]\n",
    "    return -(np.dot(np.linalg.inv(D+w*L), (w*U + (w-1)*D)))"
   ]
  },
  {
   "cell_type": "markdown",
   "metadata": {},
   "source": [
    "### Problema 1"
   ]
  },
  {
   "cell_type": "code",
   "execution_count": 99,
   "metadata": {
    "scrolled": true
   },
   "outputs": [
    {
     "name": "stdout",
     "output_type": "stream",
     "text": [
      "rho(T):  (0.4264366108423415+0j)\n",
      "0 :  [0. 0. 0. 0.]\n",
      "1 :  [ 0.6         2.27272727 -1.1         0.5       ]\n",
      "2 :  [ 1.04727273  2.09090909 -0.94272727 -0.48977273]\n",
      "3 :  [ 0.99763636  2.41580579 -1.14934091 -0.40193182]\n",
      "4 :  [ 1.07144876  2.36855372 -1.09813988 -0.54959478]\n",
      "5 :  [ 1.05648335  2.42019029 -1.13239386 -0.52547513]\n",
      "6 :  [ 1.0684978   2.40913772 -1.12182515 -0.54912059]\n",
      "7 :  [ 1.0652788   2.41763949 -1.12769785 -0.54365479]\n",
      "8 :  [ 1.06730352  2.4153223  -1.12565729 -0.54757704]\n",
      "9 :  [ 1.06666369  2.41676158 -1.12668618 -0.54645302]\n",
      "10 :  [ 1.06701339  2.41630333 -1.12630188 -0.54712136]\n",
      "11 :  [ 1.06689071  2.41655233 -1.12648448 -0.54690148]\n",
      "12 :  [ 1.06695213  2.41646461 -1.12641306 -0.54701768]\n",
      "13 :  [ 1.06692907  2.41650837 -1.12644573 -0.54697586]\n",
      "14 :  [ 1.06693998  2.4164919  -1.12643256 -0.54699636]\n",
      "Error (Ax - b):\n",
      " [-1.95384760e-05  3.36320205e-05 -2.41661012e-05  2.92181218e-05]\n"
     ]
    }
   ],
   "source": [
    "A = np.array([[10,-1,2,0],[-1,11,-1,3],[2,-1,10,-1],[0,3,-1,8]])\n",
    "b = np.array([6,25,-11,4])\n",
    "x0 = np.transpose(np.zeros(4))\n",
    "\n",
    "print(\"rho(T): \",radioEspectral(getT(A)))\n",
    "\n",
    "x = Jacobi(A,b,x0,50,0.00001)\n",
    "print(\"Error (Ax - b):\\n\", A.dot(x)-b)"
   ]
  },
  {
   "cell_type": "markdown",
   "metadata": {},
   "source": [
    "### Problema 2"
   ]
  },
  {
   "cell_type": "code",
   "execution_count": 100,
   "metadata": {},
   "outputs": [
    {
     "name": "stdout",
     "output_type": "stream",
     "text": [
      "rho(Tg):  (0.08386363636363639+0.03217253975130954j)\n",
      "0 :  [0. 0. 0. 0.]\n",
      "1 :  [ 0.6         2.32727273 -0.98727273 -0.49613636]\n",
      "2 :  [ 1.03018182  2.41193802 -1.1144562  -0.54378378]\n",
      "3 :  [ 1.06408504  2.41645274 -1.12555011 -0.54686354]\n",
      "4 :  [ 1.0667553   2.41652689 -1.12638472 -0.54699568]\n",
      "5 :  [ 1.06692963  2.4165029  -1.1264352  -0.54699299]\n",
      "Error (Ax - b):\n",
      " [ 1.15585989e-06  6.28270203e-06 -1.51656912e-06 -4.44089210e-16]\n"
     ]
    }
   ],
   "source": [
    "A = np.array([[10,-1,2,0],[-1,11,-1,3],[2,-1,10,-1],[0,3,-1,8]])\n",
    "b = np.array([6,25,-11,4])\n",
    "x0 = np.transpose(np.zeros(4))\n",
    "rho = radioEspectral(A)\n",
    "\n",
    "print(\"rho(Tg): \",radioEspectral(getTg(A)))\n",
    "\n",
    "x = GaussSeidel(A,b,x0,50,0.00001)\n",
    "print(\"Error (Ax - b):\\n\", A.dot(x)-b)\n"
   ]
  },
  {
   "cell_type": "markdown",
   "metadata": {},
   "source": [
    "Como podemos observar, el metodo de Gauss-Seidel converge más rápido, porque $\\rho(Tg) < \\rho(T)$"
   ]
  },
  {
   "cell_type": "markdown",
   "metadata": {},
   "source": [
    "### Problema 3"
   ]
  },
  {
   "cell_type": "code",
   "execution_count": 101,
   "metadata": {},
   "outputs": [
    {
     "name": "stdout",
     "output_type": "stream",
     "text": [
      "A:\n",
      " [[ 4  3  0]\n",
      " [ 3  4 -1]\n",
      " [ 0 -1  4]]\n",
      "Eigenvalores: [0.83772234+0.j 7.16227766+0.j 4.        +0.j]\n"
     ]
    }
   ],
   "source": [
    "A = np.array([[4,3,0],[3,4,-1],[0,-1,4]])\n",
    "print(\"A:\\n\",A)\n",
    "print(\"Eigenvalores:\", linalg.eigvals(A))"
   ]
  },
  {
   "cell_type": "markdown",
   "metadata": {},
   "source": [
    "Como los eigenvalores son positivos, entonces la matriz es definida positiva:\n",
    "Consideremos el cambio de base a la dada por los eigenvectores de $A$. Entonces $A$ es representada por una matriz diagonal, i.e. $x^TDx = x^T[\\lambda_i x_i] = \\lambda [x_i^2]$"
   ]
  },
  {
   "cell_type": "markdown",
   "metadata": {},
   "source": [
    "### Problema 4"
   ]
  },
  {
   "cell_type": "code",
   "execution_count": 102,
   "metadata": {},
   "outputs": [
    {
     "name": "stdout",
     "output_type": "stream",
     "text": [
      "Gauss-Seidel\n",
      "0 :  [0. 0. 0.]\n",
      "1 :  [ 6.    3.   -5.25]\n",
      "2 :  [ 3.75     3.375   -5.15625]\n",
      "3 :  [ 3.46875     3.609375   -5.09765625]\n",
      "4 :  [ 3.29296875  3.75585938 -5.06103516]\n",
      "5 :  [ 3.18310547  3.84741211 -5.03814697]\n",
      "6 :  [ 3.11444092  3.90463257 -5.02384186]\n",
      "7 :  [ 3.07152557  3.94039536 -5.01490116]\n",
      "8 :  [ 3.04470348  3.9627471  -5.00931323]\n",
      "9 :  [ 3.02793968  3.97671694 -5.00582077]\n",
      "10 :  [ 3.0174623   3.98544808 -5.00363798]\n",
      "11 :  [ 3.01091394  3.99090505 -5.00227374]\n",
      "12 :  [ 3.00682121  3.99431566 -5.00142109]\n",
      "13 :  [ 3.00426326  3.99644729 -5.00088818]\n",
      "14 :  [ 3.00266454  3.99777955 -5.00055511]\n",
      "15 :  [ 3.00166533  3.99861222 -5.00034694]\n",
      "16 :  [ 3.00104083  3.99913264 -5.00021684]\n",
      "17 :  [ 3.00065052  3.9994579  -5.00013553]\n",
      "18 :  [ 3.00040658  3.99966119 -5.0000847 ]\n",
      "19 :  [ 3.00025411  3.99978824 -5.00005294]\n",
      "20 :  [ 3.00015882  3.99986765 -5.00003309]\n",
      "21 :  [ 3.00009926  3.99991728 -5.00002068]\n",
      "22 :  [ 3.00006204  3.9999483  -5.00001292]\n",
      "Error (Ax - b):\n",
      " [[ 5.81611368e-05 -4.84676140e-06  0.00000000e+00]] \n",
      "\n",
      "SOR (w=1.3)\n",
      "0 :  [0. 0. 0.]\n",
      "1 :  [ 7.8       2.145    -7.102875]\n",
      "2 :  [ 3.368625    3.51365625 -4.52719922]\n",
      "3 :  [ 3.36359766  3.94505566 -5.15969714]\n",
      "4 :  [ 2.94449143  4.01870258 -4.94601252]\n",
      "5 :  [ 2.99841755  4.01347804 -5.01181588]\n",
      "6 :  [ 2.98733364  4.00446613 -4.99500375]\n",
      "7 :  [ 2.99944544  4.00082465 -5.00123087]\n",
      "8 :  [ 2.99936234  3.99997429 -4.99963909]\n",
      "9 :  [ 3.00021636  3.99991405 -5.0001362 ]\n",
      "10 :  [ 3.00001889  3.9999631  -4.99997113]\n",
      "11 :  [ 3.00003031  3.9999909  -5.00001162]\n",
      "12 :  [ 2.99999978  3.99999917 -4.99999678]\n",
      "Error (Ax - b):\n",
      " [[ 4.82500104e-06  5.21018282e-06 -3.72651262e-06]]\n"
     ]
    }
   ],
   "source": [
    "A = np.array([[4,3,0],[3,4,-1],[0,-1,4]])\n",
    "b= np.array([[24],[30],[-24]])\n",
    "\n",
    "x0 = np.transpose(np.zeros(3))\n",
    "print(\"Gauss-Seidel\")\n",
    "x = GaussSeidel(A,b,x0,50,0.00001)\n",
    "print(\"Error (Ax - b):\\n\", A.dot(x)-np.transpose(b),\"\\n\")\n",
    "print(\"SOR (w=1.3)\")\n",
    "x = SOR(A,b,x0,1.3,50,0.00001)\n",
    "print(\"Error (Ax - b):\\n\", A.dot(x)-np.transpose(b))"
   ]
  },
  {
   "cell_type": "markdown",
   "metadata": {},
   "source": [
    "Un valor óptimo para $w$ es 1.3. Nótese que ambos algoritmos convergen efectivamente en $[3,4,-5]$."
   ]
  },
  {
   "cell_type": "markdown",
   "metadata": {},
   "source": [
    "### Problema 5"
   ]
  },
  {
   "cell_type": "code",
   "execution_count": 103,
   "metadata": {},
   "outputs": [
    {
     "name": "stdout",
     "output_type": "stream",
     "text": [
      "A:\n",
      " [[ 4. -1. -1. -1.]\n",
      " [-1.  4. -1. -1.]\n",
      " [-1. -1.  4. -1.]\n",
      " [-1. -1. -1.  4.]]\n"
     ]
    }
   ],
   "source": [
    "A = -1*np.ones((4,4)) + np.diag(np.ones(4)*5)\n",
    "print(\"A:\\n\",A)"
   ]
  },
  {
   "cell_type": "code",
   "execution_count": 104,
   "metadata": {},
   "outputs": [
    {
     "name": "stdout",
     "output_type": "stream",
     "text": [
      "rho(T):  (0.25+0j)\n",
      "rho(Tg):  (0.5699449488136754+0j)\n",
      "rho(Ts):  (0.16139265018666626+0j)\n"
     ]
    }
   ],
   "source": [
    "print(\"rho(T): \",radioEspectral(getT(A)))\n",
    "print(\"rho(Tg): \",radioEspectral(getTg(A)))\n",
    "print(\"rho(Ts): \",radioEspectral(getTs(A,1.95)))"
   ]
  },
  {
   "cell_type": "markdown",
   "metadata": {},
   "source": [
    "El metodo apropiado es SOR, con $w = 1.95$ (cercano a 2 porque $w\\in (0,2)$). Luego, conviene usar el metodo de Jacobi y por ultimo el de Gauss-Seidel. Nótese que los tres algoritmos convergen porque $0<\\rho(Ts)<\\rho(T)<\\rho(Tg)<1$."
   ]
  }
 ],
 "metadata": {
  "kernelspec": {
   "display_name": "Python 3",
   "language": "python",
   "name": "python3"
  },
  "language_info": {
   "codemirror_mode": {
    "name": "ipython",
    "version": 3
   },
   "file_extension": ".py",
   "mimetype": "text/x-python",
   "name": "python",
   "nbconvert_exporter": "python",
   "pygments_lexer": "ipython3",
   "version": "3.7.1"
  }
 },
 "nbformat": 4,
 "nbformat_minor": 2
}
