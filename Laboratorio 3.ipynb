{
 "cells": [
  {
   "cell_type": "markdown",
   "metadata": {},
   "source": [
    "# Laboratorio 3\n",
    "Estuardo Diaz, 16110\n"
   ]
  },
  {
   "cell_type": "code",
   "execution_count": 1,
   "metadata": {},
   "outputs": [],
   "source": [
    "import numpy as np\n",
    "from scipy import linalg\n",
    "import matplotlib\n",
    "import matplotlib.pyplot as plt"
   ]
  },
  {
   "cell_type": "markdown",
   "metadata": {},
   "source": [
    "### Problema 1"
   ]
  },
  {
   "cell_type": "code",
   "execution_count": 2,
   "metadata": {},
   "outputs": [],
   "source": [
    "def Jacobi(A,b,x0,N=100,tol=0.001):\n",
    "    for k in range(N):\n",
    "        print(k,\": \", x0)\n",
    "        x = np.zeros_like(x0)\n",
    "        for i in range(A.shape[0]):\n",
    "            x[i] = (b[i] - sum(A[i,:]*x0) + A[i,i]*x0[i]) / A[i, i]\n",
    "        if np.allclose(x0, x, atol=tol, rtol=0.):\n",
    "            return x\n",
    "        x0 = x\n",
    "    print(\"Se excedió el número máximo de iteraciones\")\n",
    "    return x"
   ]
  },
  {
   "cell_type": "code",
   "execution_count": 3,
   "metadata": {},
   "outputs": [],
   "source": [
    "def GaussSeidel(A,b,x0,N=100,tol=0.001):\n",
    "    for k in range(N):\n",
    "        print(k,\": \",x0)\n",
    "        x = np.zeros_like(x0)\n",
    "        for i in range(A.shape[0]):\n",
    "            x[i] = (b[i] - sum(A[i, :i]*x[:i]) - sum(A[i, i + 1:]*x0[i + 1:])) / A[i, i]\n",
    "        if np.allclose(x0, x, rtol=tol):\n",
    "            return x\n",
    "        x0 = x\n",
    "    print(\"Se excedió el número máximo de iteraciones\")\n",
    "    return x"
   ]
  },
  {
   "cell_type": "code",
   "execution_count": 4,
   "metadata": {},
   "outputs": [],
   "source": [
    "def SOR(A, b, x0, w=0.5, N=100, tol=0.001):\n",
    "    x = x0\n",
    "    for k in range(N):\n",
    "        print(k,\": \",x0)\n",
    "        for i in range(A.shape[0]):\n",
    "            x[i] = (1 - w) * x[i] + (w / A[i][i]) * (b[i] - sum(A[i,:]*x) + A[i,i]*x[i])\n",
    "        if np.linalg.norm(np.matmul(A, x) - b) < tol:\n",
    "            return x\n",
    "    print(\"Se excedió el número máximo de iteraciones\")\n",
    "    return x"
   ]
  },
  {
   "cell_type": "code",
   "execution_count": 5,
   "metadata": {},
   "outputs": [],
   "source": [
    "def radioEspectral(A):\n",
    "    return max(linalg.eigvals(A))"
   ]
  },
  {
   "cell_type": "code",
   "execution_count": 6,
   "metadata": {},
   "outputs": [
    {
     "name": "stdout",
     "output_type": "stream",
     "text": [
      "rho(A):  (14.073477752817427+0j)\n",
      "0 :  [0. 0. 0. 0.]\n",
      "1 :  [ 0.6         2.27272727 -1.1         0.5       ]\n",
      "2 :  [ 1.04727273  2.09090909 -0.94272727 -0.48977273]\n",
      "3 :  [ 0.99763636  2.41580579 -1.14934091 -0.40193182]\n",
      "4 :  [ 1.07144876  2.36855372 -1.09813988 -0.54959478]\n",
      "5 :  [ 1.05648335  2.42019029 -1.13239386 -0.52547513]\n",
      "6 :  [ 1.0684978   2.40913772 -1.12182515 -0.54912059]\n",
      "7 :  [ 1.0652788   2.41763949 -1.12769785 -0.54365479]\n",
      "8 :  [ 1.06730352  2.4153223  -1.12565729 -0.54757704]\n",
      "9 :  [ 1.06666369  2.41676158 -1.12668618 -0.54645302]\n",
      "10 :  [ 1.06701339  2.41630333 -1.12630188 -0.54712136]\n",
      "11 :  [ 1.06689071  2.41655233 -1.12648448 -0.54690148]\n",
      "12 :  [ 1.06695213  2.41646461 -1.12641306 -0.54701768]\n",
      "13 :  [ 1.06692907  2.41650837 -1.12644573 -0.54697586]\n",
      "14 :  [ 1.06693998  2.4164919  -1.12643256 -0.54699636]\n",
      "15 :  [ 1.0669357   2.41649968 -1.12643844 -0.54698853]\n",
      "16 :  [ 1.06693766  2.41649662 -1.12643603 -0.54699219]\n",
      "17 :  [ 1.06693687  2.41649802 -1.12643709 -0.54699074]\n",
      "Ax - b:\n",
      " [  6.00000145  24.99999724 -10.99999808   3.99999787]\n"
     ]
    }
   ],
   "source": [
    "A = np.array([[10,-1,2,0],[-1,11,-1,3],[2,-1,10,-1],[0,3,-1,8]])\n",
    "b = np.array([6,25,-11,4])\n",
    "x0 = np.transpose(np.zeros(4))\n",
    "rho = radioEspectral(A)\n",
    "\n",
    "print(\"rho(A): \",rho)\n",
    "x = Jacobi(A,b,x0,50,0.000001)\n",
    "\n",
    "print(\"Ax - b:\\n\", A.dot(x))"
   ]
  },
  {
   "cell_type": "markdown",
   "metadata": {},
   "source": [
    "### Problema 2"
   ]
  },
  {
   "cell_type": "code",
   "execution_count": 16,
   "metadata": {},
   "outputs": [],
   "source": [
    "A = np.array([[4,3,0],[3,4,-1],[0,-1,4]])\n",
    "b= np.array([[24],[30],[-24]])"
   ]
  },
  {
   "cell_type": "markdown",
   "metadata": {},
   "source": [
    "### Problema 3"
   ]
  },
  {
   "cell_type": "code",
   "execution_count": 12,
   "metadata": {},
   "outputs": [
    {
     "name": "stdout",
     "output_type": "stream",
     "text": [
      "A:\n",
      " [[ 4  3  0]\n",
      " [ 3  4 -1]\n",
      " [ 0 -1  4]]\n",
      "Eigenvalores: [0.83772234+0.j 7.16227766+0.j 4.        +0.j]\n"
     ]
    }
   ],
   "source": [
    "A = np.array([[4,3,0],[3,4,-1],[0,-1,4]])\n",
    "print(\"A:\\n\",A)\n",
    "print(\"Eigenvalores:\", linalg.eigvals(A))"
   ]
  },
  {
   "cell_type": "markdown",
   "metadata": {},
   "source": [
    "Como los eigenvalores son positivos, entonces la matriz es definida positiva"
   ]
  },
  {
   "cell_type": "markdown",
   "metadata": {},
   "source": [
    "### Problema 4"
   ]
  },
  {
   "cell_type": "code",
   "execution_count": null,
   "metadata": {},
   "outputs": [],
   "source": []
  },
  {
   "cell_type": "markdown",
   "metadata": {},
   "source": [
    "### Problema 5"
   ]
  },
  {
   "cell_type": "code",
   "execution_count": 15,
   "metadata": {},
   "outputs": [
    {
     "data": {
      "text/plain": [
       "array([[ 4., -1., -1., -1.],\n",
       "       [-1.,  4., -1., -1.],\n",
       "       [-1., -1.,  4., -1.],\n",
       "       [-1., -1., -1.,  4.]])"
      ]
     },
     "execution_count": 15,
     "metadata": {},
     "output_type": "execute_result"
    }
   ],
   "source": [
    "A = -1*np.ones((4,4)) + np.diag(np.ones(4)*5)\n",
    "A"
   ]
  },
  {
   "cell_type": "code",
   "execution_count": null,
   "metadata": {},
   "outputs": [],
   "source": []
  }
 ],
 "metadata": {
  "kernelspec": {
   "display_name": "Python 3",
   "language": "python",
   "name": "python3"
  },
  "language_info": {
   "codemirror_mode": {
    "name": "ipython",
    "version": 3
   },
   "file_extension": ".py",
   "mimetype": "text/x-python",
   "name": "python",
   "nbconvert_exporter": "python",
   "pygments_lexer": "ipython3",
   "version": "3.6.5"
  }
 },
 "nbformat": 4,
 "nbformat_minor": 2
}
